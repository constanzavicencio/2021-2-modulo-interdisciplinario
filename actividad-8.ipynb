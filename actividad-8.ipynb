{
 "cells": [
  {
   "cell_type": "markdown",
   "metadata": {},
   "source": [
    "## Regresión lineal y edad del universo"
   ]
  },
  {
   "cell_type": "code",
   "execution_count": 1,
   "metadata": {
    "tags": []
   },
   "outputs": [],
   "source": [
    "import numpy as np\n",
    "import matplotlib.pyplot as plt\n",
    "import pandas as pd"
   ]
  },
  {
   "cell_type": "markdown",
   "metadata": {},
   "source": [
    "## Datos bivariados\n",
    "\n",
    "Hay muchos ejemplos en Ciencias de la Tierra y Planetarias en los que estamos interesados en la dependencia de un conjunto de datos sobre otro (_datos bivariados_). Hemos tratado estos escenarios hasta ahora al considerar la distancia de la última inversión geomagnética desde su dorsal oceánica para obtener la tasa de propagación del fondo marino y la diferencia en los tiempos de llegada de las ondas sísmicas $ P $ y $ S $ que está relacionada con la distancia de la fuente a el receptor.\n",
    "\n",
    "Hoy nos centraremos en métodos que nos permitan investigar posibles asociaciones y relaciones entre variables. Y utilizando un problema clásico de la astrofísica para hacerlo. La inspiración para este ejercicio provino de la Lección 16 de la clase Python para estudiantes de Ciencias de la Tierra de Lisa Tauxe y parte del material se modificó a partir de esos materiales (https://github.com/ltauxe/Python-for-Earth-Science-Students)."
   ]
  },
  {
   "cell_type": "markdown",
   "metadata": {},
   "source": [
    "### Edad del universo\n",
    "\n",
    "Hoy, nos centraremos en utilizar la velocidad de alejamiento de las galaxias y las supernovas en función de su distancia (como se muestra en nuestro conjunto de datos de ejemplo). Estos datos son la base de lo que se conoce como \"Ley de Hubble\" (el mismo Hubble que para el telescopio Hubble). Hubble publicó estos resultados en 1929 [Hubble, E. P. (1929) Proc. Natl. Acad. Sci., 15, 168-173.] En ese momento, no estaba claro si el universo era estático o estaba expandiéndose o colapsando. Hubble planteó la hipótesis de que si el universo se estuviera expandiendo, entonces todo en él se alejaría de nosotros. Cuanto mayor sea la distancia entre la Tierra y la galaxia, más rápido deben irse moviendo. Así que todo lo que tenía que hacerse era medir la distancia y la velocidad de las galaxias distantes. Fácil, ¿verdad?."
   ]
  },
  {
   "cell_type": "markdown",
   "metadata": {},
   "source": [
    "Para medir la velocidad, Hubble utilizó el efecto Doppler. Para comprender cómo funciona esto, recuerde que el tono que escucha cuando se acerca una ambulancia cambia. Durante el efecto Doppler, el tono de la ambulancia cambia de agudo (a medida que se acerca) a bajo (a medida que se aleja). El tono cambia porque cambia la frecuencia relativa de las ondas sonoras. La frecuencia aumenta a medida que se acerca la ambulancia, lo que lleva a un tono más agudo, y luego disminuye a medida que se aleja, lo que resulta en un tono más bajo.\n",
    "\n",
    "En caso de que no haya tenido esta experiencia de vida, escuchemos una sirena de este tipo aquí:"
   ]
  },
  {
   "cell_type": "code",
   "execution_count": 2,
   "metadata": {
    "tags": []
   },
   "outputs": [
    {
     "name": "stderr",
     "output_type": "stream",
     "text": [
      "/Users/Catacdiaz/opt/anaconda3/lib/python3.8/site-packages/IPython/core/display.py:717: UserWarning: Consider using IPython.display.IFrame instead\n",
      "  warnings.warn(\"Consider using IPython.display.IFrame instead\")\n"
     ]
    },
    {
     "data": {
      "text/html": [
       "<iframe width=\"704\" height=\"493\" src=\"https://www.youtube.com/embed/imoxDcn2Sgo\" title=\"YouTube video player\" frameborder=\"0\" allow=\"accelerometer; autoplay; clipboard-write; encrypted-media; gyroscope; picture-in-picture\" </iframe>"
      ],
      "text/plain": [
       "<IPython.core.display.HTML object>"
      ]
     },
     "execution_count": 2,
     "metadata": {},
     "output_type": "execute_result"
    }
   ],
   "source": [
    "from IPython.display import HTML\n",
    "HTML('<iframe width=\"704\" height=\"493\" src=\"https://www.youtube.com/embed/imoxDcn2Sgo\" title=\"YouTube video player\" frameborder=\"0\" allow=\"accelerometer; autoplay; clipboard-write; encrypted-media; gyroscope; picture-in-picture\" </iframe>')"
   ]
  },
  {
   "cell_type": "markdown",
   "metadata": {},
   "source": [
    "<img src=\"Images/Doppler_Effect.png\" width=600>\n",
    "\n",
    "El mismo principio se aplica a la luz, pero en lugar de escuchar un cambio en la frecuencia, observamos un cambio en la longitud de onda (el color) emitida por la galaxia. Si una estrella o galaxia se aleja de nosotros, sus bandas de absorción se desplazan hacia longitudes de onda más largas, el extremo rojo del espectro visible. Cuanto más rápido se aleje la estrella o galaxia del observador, mayor será el cambio hacia el rojo:\n",
    "\n",
    "<img src=\"Images/dopp-redshift01.jpg\" width=300>\n",
    "\n",
    "Entonces, una estrella (o galaxia) que se aleja de nosotros tendrá un corrimiento hacia el rojo con la longitud de onda siendo extendida.\n",
    "\n",
    "\n",
    "Hubble midió el desplazamiento hacia el rojo de diferentes galaxias y las convirtió en velocidades. Luego calculó la distancia a estos objetos, lo que es más difícil de hacer (por lo que estuvo bastante lejos de calcularlas).\n",
    "\n",
    "La mejora de estos datos fue una de las principales motivaciones del telescopio espacial Hubble. Esos datos y la mejora continua de los enfoques para estimar estas distancias y velocidades e investigar tipos adicionales de objetos celestes es un enfoque importante de la investigación que actualmente esta siendo llevaba acabo por muchos investigadores."
   ]
  },
  {
   "cell_type": "markdown",
   "metadata": {},
   "source": [
    "## Datos de Supernovas del tipo 1a\n",
    "\n",
    "Importemos datos de Freedman et al. (2000) de la distancia y la velocidad de retirada de supernovas de tipo 1a. Estas supernovas se describen como sigue en un artículo que Freedman escribió en 2010:\n",
    "\n",
    "> One of the most accurate means of measuring cosmological distances out into the Hubble flow\n",
    "utilizes the peak brightness of SNe Ia. The potential of supernovae for measuring distances was\n",
    "clear to early researchers (e.g., Baade, Minkowski, Zwicky), but it was the Hubble diagram of\n",
    "Kowal (1968) that set the modern course for this field, followed by decades of work by Sandage,\n",
    "Tammann, and collaborators (e.g., Sandage & Tammann 1982, 1990; see also the review by\n",
    "Branch 1998). Analysis by Pskovskii (1984), followed by Phillips (1993), established a correlation\n",
    "between the magnitude of a SN Ia at peak brightness and the rate at which it declines, thus\n",
    "allowing supernova luminosities to be “standardized.” This method currently probes farthest\n",
    "into the unperturbed Hubble flow, and it possesses very low intrinsic scatter:\n",
    "*Freedman and Madore (2010) who then go onto describe how using Cepheid variable stars (a type of pulsating star) has allowed for the distances to be better calibrated.*\n",
    "\n",
    "> SNe Ia result from the thermonuclear runaway explosions of stars.\n",
    "From observations alone, the presence of SNe Ia in elliptical galaxies suggests that they do not\n",
    "come from massive stars. Many details of the explosion are not yet well understood, but the\n",
    "generally accepted view is that of a carbon-oxygen, electron-degenerate, nearly-Chandrasekharmass\n",
    "white dwarf orbiting in a binary system with a close companion *Freedman and Madore (2010)*"
   ]
  },
  {
   "cell_type": "code",
   "execution_count": 3,
   "metadata": {},
   "outputs": [
    {
     "data": {
      "text/html": [
       "<div>\n",
       "<style scoped>\n",
       "    .dataframe tbody tr th:only-of-type {\n",
       "        vertical-align: middle;\n",
       "    }\n",
       "\n",
       "    .dataframe tbody tr th {\n",
       "        vertical-align: top;\n",
       "    }\n",
       "\n",
       "    .dataframe thead th {\n",
       "        text-align: right;\n",
       "    }\n",
       "</style>\n",
       "<table border=\"1\" class=\"dataframe\">\n",
       "  <thead>\n",
       "    <tr style=\"text-align: right;\">\n",
       "      <th></th>\n",
       "      <th>Supernova</th>\n",
       "      <th>VCMB</th>\n",
       "      <th>D(Mpc)</th>\n",
       "      <th>HCMB</th>\n",
       "      <th>σ</th>\n",
       "    </tr>\n",
       "  </thead>\n",
       "  <tbody>\n",
       "    <tr>\n",
       "      <th>31</th>\n",
       "      <td>SN1994T</td>\n",
       "      <td>10715</td>\n",
       "      <td>149.9</td>\n",
       "      <td>71.5</td>\n",
       "      <td>2.6</td>\n",
       "    </tr>\n",
       "    <tr>\n",
       "      <th>32</th>\n",
       "      <td>SN1995ac</td>\n",
       "      <td>14634</td>\n",
       "      <td>185.6</td>\n",
       "      <td>78.8</td>\n",
       "      <td>2.7</td>\n",
       "    </tr>\n",
       "    <tr>\n",
       "      <th>33</th>\n",
       "      <td>SN1995ak</td>\n",
       "      <td>6673</td>\n",
       "      <td>82.4</td>\n",
       "      <td>80.9</td>\n",
       "      <td>2.8</td>\n",
       "    </tr>\n",
       "    <tr>\n",
       "      <th>34</th>\n",
       "      <td>SN1996C</td>\n",
       "      <td>9024</td>\n",
       "      <td>136.0</td>\n",
       "      <td>66.3</td>\n",
       "      <td>2.5</td>\n",
       "    </tr>\n",
       "    <tr>\n",
       "      <th>35</th>\n",
       "      <td>SN1996bl</td>\n",
       "      <td>10446</td>\n",
       "      <td>132.7</td>\n",
       "      <td>78.7</td>\n",
       "      <td>2.7</td>\n",
       "    </tr>\n",
       "  </tbody>\n",
       "</table>\n",
       "</div>"
      ],
      "text/plain": [
       "   Supernova   VCMB  D(Mpc)  HCMB    σ\n",
       "31   SN1994T  10715   149.9  71.5  2.6\n",
       "32  SN1995ac  14634   185.6  78.8  2.7\n",
       "33  SN1995ak   6673    82.4  80.9  2.8\n",
       "34   SN1996C   9024   136.0  66.3  2.5\n",
       "35  SN1996bl  10446   132.7  78.7  2.7"
      ]
     },
     "execution_count": 3,
     "metadata": {},
     "output_type": "execute_result"
    }
   ],
   "source": [
    "Supernova_data = pd.read_csv('Data/Freedman2000_Supernova1a.csv')\n",
    "Supernova_data.tail()"
   ]
  },
  {
   "cell_type": "markdown",
   "metadata": {},
   "source": [
    "La columna ```VCMB``` es la velocidad relativa al fondo cósmico de microondas en km s $ ^ {- 1} $. La columna ```D (Mpc)``` es la distancia en Mpc, que es la unidad que se utiliza normalmente para estas medidas. 1 Mpc = 3.09 x 10 $ ^ {19} $ km\n",
    "\n",
    "Continúe y haga doble clic en esta celda para ver cómo obtengo etiquetas que tienen los superíndices adecuados.\n",
    "\n",
    "Para crear etiquetas agradables con superíndices, podemos usar formato de látex, que también se puede hacer en una celda markdown. Para un superíndice, primero necesitamos encerrar el texto en signos de dólar y luego usar el símbolo ^ para convertir el siguiente texto en superíndice. Si hay más de un número en el superíndice, debe incluir lo que desee como superíndice entre llaves.\n",
    "Por ejemplo, para imprimir $ 10 ^ 3 $, usamos `` `$ 10 ^ 3 $` `` y para 'por segundo' (s $ ^ {- 1} $): ```s $ ^ {- 1} $```"
   ]
  },
  {
   "cell_type": "code",
   "execution_count": 4,
   "metadata": {},
   "outputs": [
    {
     "data": {
      "image/png": "[encoded data removed]",
      "text/plain": [
       "<Figure size 432x288 with 1 Axes>"
      ]
     },
     "metadata": {
      "needs_background": "light"
     },
     "output_type": "display_data"
    }
   ],
   "source": [
    "plt.scatter(Supernova_data['D(Mpc)'],Supernova_data['VCMB'],color='red',label='1A Supernovae data (Freedman et al. 2000)')\n",
    "plt.ylabel('Velocity (km s$^{-1}$)')\n",
    "plt.xlabel('Distance (Mpc)')\n",
    "plt.legend()\n",
    "plt.show()"
   ]
  },
  {
   "cell_type": "markdown",
   "metadata": {},
   "source": [
    "## Determinación de la pendiente de esta línea (la constante de Hubble)\n",
    "\n",
    "Tenemos la distancia en el eje x en megaparsecs y la velocidad en el eje y en km / s. La pendiente de esta línea es la constante de Hubble:\n",
    "\n",
    "$ v = H_o d $\n",
    "\n",
    "donde $ v $ es la velocidad, $ d $ es la distancia y $ H_o $ es la constante de Hubble.\n",
    "\n",
    "Esto se parece mucho a la ecuación para una línea que atraviesa los datos ($ y = mx + b $) donde $ m $ es la pendiente y $ b $ es la intersección con el eje y. En este caso, la intersección con el eje y debería ser 0 o casi, y $ m $ es $ H_o $.\n",
    "\n",
    "Entonces, ¿cómo encontramos la pendiente?\n",
    "\n",
    "Aquí es donde podemos usar la regresión lineal para encontrar la línea de \"mejor ajuste\" a través de los datos. El enfoque es minimizar la suma de los cuadrados de las distancias (residuales) entre los puntos y una línea que los atraviesa. En esta ilustración a continuación, los residuos son la distancia vertical entre cada punto de datos y la línea:\n",
    "\n",
    "<img src = \"Images/Residuals_for_Linear_Regression_Fit.png\" width = 400>\n",
    "\n",
    "El enfoque en la regresión lineal es encontrar la línea que minimiza el valor al cuadrado de todas estas distancias sumadas.\n",
    "\n",
    "<img src = \"Images/RMSE1.png\" width = 400>\n",
    "<img src = \"Images/RMSE2.png\" width = 400>\n",
    "<img src = \"Images/RMSE3.png\" width = 400>\n",
    "<img src = \"Images/RMSE4.png\" width = 400>\n",
    "\n",
    "Determinamos la línea de mejor ajuste a través de este enfoque de mínimos cuadrados utilizando la función `` np.polyfit ()``. Una línea recta es un polinomio de primer grado (*tenga en cuenta que la función también puede ajustarse a polinomios de orden superior*)."
   ]
  },
  {
   "cell_type": "code",
   "execution_count": 5,
   "metadata": {},
   "outputs": [],
   "source": [
    "np.polyfit?"
   ]
  },
  {
   "cell_type": "markdown",
   "metadata": {},
   "source": [
    "## Ajustar una recta con `np.polyfit()`\n",
    "\n",
    "`np.polyfit()` se puede utilizar para calcular las rectas de mejor ajuste (estableciendo el grado (```deg```) en 1), o curvas de orden superior (estableciendo el grado en 2 o más) devolviendo la pendiente y la intersección. Pongámoslo en uso:"
   ]
  },
  {
   "cell_type": "code",
   "execution_count": 6,
   "metadata": {},
   "outputs": [
    {
     "data": {
      "text/plain": [
       "array([ 67.5361857 , 711.79566787])"
      ]
     },
     "execution_count": 6,
     "metadata": {},
     "output_type": "execute_result"
    }
   ],
   "source": [
    "np.polyfit(Supernova_data['D(Mpc)'],Supernova_data['VCMB'],1)"
   ]
  },
  {
   "cell_type": "markdown",
   "metadata": {},
   "source": [
    "Entonces $H_o$, la pendiente que tiene el mejor ajuste, es 67.5 (en la rara unidad de kilómetros por segundo por megaparsec).\n",
    "\n",
    "Tracemos la línea de mejor ajuste en nuestro gráfico.\n",
    "\n",
    "Podemos asignar la pendiente y la intersección y mejor ajustadas de **np.polyfit()** a una variable (**m_b**)."
   ]
  },
  {
   "cell_type": "code",
   "execution_count": 7,
   "metadata": {},
   "outputs": [
    {
     "name": "stdout",
     "output_type": "stream",
     "text": [
      "[ 67.5361857  711.79566787]\n"
     ]
    }
   ],
   "source": [
    "m_b= np.polyfit(Supernova_data['D(Mpc)'],Supernova_data['VCMB'],1)\n",
    "print(m_b) #see if that worked"
   ]
  },
  {
   "cell_type": "code",
   "execution_count": 8,
   "metadata": {},
   "outputs": [
    {
     "data": {
      "text/plain": [
       "array([ 9808.91988211, 11443.29557612, 14124.48214855, 16846.19043239,\n",
       "        8620.28301373,  4493.82206726, 13131.70021871,  8917.44223082,\n",
       "       19257.23226199,  7607.24022818,  4628.89443866, 32251.19439131,\n",
       "       18419.78355927,  6695.50172118, 10936.77418335, 14387.87327279,\n",
       "       16643.58187528, 12652.19330021,  5972.86453416, 21614.24514304,\n",
       "       27152.21237071, 19628.68128336, 21202.27441025, 16657.08911242,\n",
       "       15259.09006836,  8795.87709656, 14374.36603565,  5560.89380137,\n",
       "        7242.54482538,  9342.92020075,  5223.21287285, 10835.4699048 ,\n",
       "       13246.5117344 ,  6276.77736982,  9896.71692352,  9673.8475107 ])"
      ]
     },
     "execution_count": 8,
     "metadata": {},
     "output_type": "execute_result"
    }
   ],
   "source": [
    "model_y_values = np.polyval(m_b,Supernova_data['D(Mpc)'])\n",
    "model_y_values"
   ]
  },
  {
   "cell_type": "code",
   "execution_count": 9,
   "metadata": {},
   "outputs": [
    {
     "data": {
      "image/png": "[encoded data removed]",
      "text/plain": [
       "<Figure size 432x288 with 1 Axes>"
      ]
     },
     "metadata": {
      "needs_background": "light"
     },
     "output_type": "display_data"
    }
   ],
   "source": [
    "plt.scatter(Supernova_data['D(Mpc)'],Supernova_data['VCMB'],\n",
    "            color='red',label='1A Supernovae data (Freedman et al. 2000)')\n",
    "plt.scatter(Supernova_data['D(Mpc)'],model_y_values,\n",
    "         color='black',marker='s',label='best fit to 1A Supernovae data')\n",
    "plt.ylabel('Velocity (km s$^{-1}$)')\n",
    "plt.xlabel('Distance (Mpc)')\n",
    "plt.legend()\n",
    "plt.show()"
   ]
  },
  {
   "cell_type": "code",
   "execution_count": 10,
   "metadata": {},
   "outputs": [
    {
     "data": {
      "image/png": "[encoded data removed]",
      "text/plain": [
       "<Figure size 432x288 with 1 Axes>"
      ]
     },
     "metadata": {
      "needs_background": "light"
     },
     "output_type": "display_data"
    }
   ],
   "source": [
    "plt.scatter(Supernova_data['D(Mpc)'],Supernova_data['VCMB'],\n",
    "            color='red',label='1A Supernovae data (Freedman et al. 2000)')\n",
    "plt.plot(Supernova_data['D(Mpc)'],model_y_values,\n",
    "         color='black',label='best fit to 1A Supernovae data')\n",
    "plt.ylabel('Velocity (km s$^{-1}$)')\n",
    "plt.xlabel('Distance (Mpc)')\n",
    "plt.legend()\n",
    "plt.show()"
   ]
  },
  {
   "cell_type": "markdown",
   "metadata": {},
   "source": [
    "## Usando este modelo lineal para la predicción\n",
    "\n",
    "¿Cuál sería la predicción de la velocidad de una supernova que resultó ser de 350 Mpc?\n",
    "\n",
    "<font color = goldenrod> **_Código para que escriba_**</font>\n",
    "y=67.5361857*350+711.79566787\n",
    "\n",
    "**Utilice la función ``np.polyval()`` para llegar a lo que el modelo lineal predice cuál sería la velocidad**"
   ]
  },
  {
   "cell_type": "code",
   "execution_count": 43,
   "metadata": {},
   "outputs": [
    {
     "name": "stdout",
     "output_type": "stream",
     "text": [
      "predicción velocidad: 24349.460662870002\n"
     ]
    }
   ],
   "source": [
    "y=67.5361857*350+711.79566787\n",
    "print('predicción velocidad:',y)"
   ]
  },
  {
   "cell_type": "code",
   "execution_count": 11,
   "metadata": {},
   "outputs": [
    {
     "data": {
      "text/plain": [
       "24349.460664022234"
      ]
     },
     "execution_count": 11,
     "metadata": {},
     "output_type": "execute_result"
    }
   ],
   "source": [
    "m_b= np.polyfit(Supernova_data['D(Mpc)'],Supernova_data['VCMB'],1)\n",
    "velocidad = np.polyval(m_b,350 )\n",
    "velocidad"
   ]
  },
  {
   "cell_type": "markdown",
   "metadata": {},
   "source": [
    "## Evaluación del ajuste del modelo\n",
    "\n",
    "También nos gustaría saber quién se ajusta bien este modelo a nuestros datos (es decir, qué tan correlacionados están los datos). Usaremos el coeficiente de correlación $R^{2} $ para esto. $R^ {2}$ es cero para datos no correlacionados y 1 para datos perfectamente lineales (por lo que no hay desajuste entre la línea del modelo y los datos). Usaremos la función scipy `stats.linregress` para calcular  $R^{2}$."
   ]
  },
  {
   "cell_type": "code",
   "execution_count": 12,
   "metadata": {},
   "outputs": [],
   "source": [
    "from scipy.stats import stats"
   ]
  },
  {
   "cell_type": "markdown",
   "metadata": {},
   "source": [
    "Y utilícelo para obtener lo que normalmente se llama el valor $ R ^ 2 $, que cuando 1. represente una concordancia perfecta.\n",
    "\n",
    "<img src = \"Images/Correlation_examples.svg\" width = 900>\n",
    "> Coeficiente de correlación de Pearson entre varios conjuntos de ejemplos X, Y. Fuente: https://en.wikipedia.org/wiki/Correlation_and_dependence"
   ]
  },
  {
   "cell_type": "code",
   "execution_count": 13,
   "metadata": {},
   "outputs": [
    {
     "data": {
      "text/plain": [
       "LinregressResult(slope=67.5361857032834, intercept=711.7956678730352, rvalue=0.9890793847199012, pvalue=7.32480214659252e-30, stderr=1.725899617363687)"
      ]
     },
     "execution_count": 13,
     "metadata": {},
     "output_type": "execute_result"
    }
   ],
   "source": [
    "stats.linregress(Supernova_data['D(Mpc)'],Supernova_data['VCMB'])"
   ]
  },
  {
   "cell_type": "code",
   "execution_count": 14,
   "metadata": {},
   "outputs": [],
   "source": [
    "slope, intercept, rvalue, pvalue, stderr = stats.linregress(Supernova_data['D(Mpc)'],Supernova_data['VCMB'])"
   ]
  },
  {
   "cell_type": "code",
   "execution_count": 15,
   "metadata": {},
   "outputs": [
    {
     "data": {
      "text/plain": [
       "0.9782780292778983"
      ]
     },
     "execution_count": 15,
     "metadata": {},
     "output_type": "execute_result"
    }
   ],
   "source": [
    "rvalue**2"
   ]
  },
  {
   "cell_type": "markdown",
   "metadata": {},
   "source": [
    "## Evaluación del ajuste mediante el trazado de residuos\n",
    "\n",
    "Para ver qué tan bien funciona la regresión, el científico de datos debe medir qué tan lejos están las estimaciones de los valores reales. Estas diferencias se denominan *residuales*.\n",
    "\n",
    "$$\n",
    "\\mbox {residual} ~ = ~ \\mbox {valor observado} ~ - ~ \\mbox {estimacion de regresion}\n",
    "$$\n",
    "\n",
    "Un residuo es lo que queda después de la estimación.\n",
    "\n",
    "Los residuos son las distancias verticales de los puntos desde la línea de regresión. Hay un residuo para cada punto del gráfico de dispersión. El residual es la diferencia entre el valor observado de $ y $ y el valor ajustado de $ y $, por lo que para el punto $ (x, y) $,\n",
    "\n",
    "$$\n",
    "\\mbox{residual} ~~ = ~~ y ~ - ~\n",
    "\\mbox{valor ajustado de } y\n",
    "~~ = ~~ y ~ - ~\n",
    "\\mbox{altura de la recta de regresion en } x\n",
    "$$"
   ]
  },
  {
   "cell_type": "code",
   "execution_count": 19,
   "metadata": {},
   "outputs": [],
   "source": [
    "residual = Supernova_data['VCMB']-model_y_values"
   ]
  },
  {
   "cell_type": "code",
   "execution_count": 21,
   "metadata": {},
   "outputs": [
    {
     "data": {
      "image/png": "[encoded data removed]",
      "text/plain": [
       "<Figure size 432x288 with 1 Axes>"
      ]
     },
     "metadata": {
      "needs_background": "light"
     },
     "output_type": "display_data"
    }
   ],
   "source": [
    "plt.scatter(Supernova_data['D(Mpc)'],residual,color='red')\n",
    "plt.hlines(0,xmin=0,xmax=500)\n",
    "plt.xlim(0,500)\n",
    "plt.show()"
   ]
  },
  {
   "cell_type": "markdown",
   "metadata": {},
   "source": [
    "**El gráfico residual de una buena regresión no muestra ningún patrón. Los residuos se ven casi iguales, por encima y por debajo de la línea horizontal en 0, en todo el rango de la variable predictora.**"
   ]
  },
  {
   "cell_type": "markdown",
   "metadata": {},
   "source": [
    "## Estimando la edad del universo\n",
    "\n",
    "Para calcular la edad del universo, podemos usar la ley de Hubble:\n",
    "\n",
    "Teníamos $ v = H_o d $ como la ley de Hubble y sabemos que distancia = velocidad x tiempo, o $ d = vt $. Entonces, si dividimos ambos lados por $ v $ y obtenemos:\n",
    "\n",
    "1 = $H_o$ t.\n",
    "\n",
    "Resolviendo para $t$ (la edad del universo), obtenemos\n",
    "\n",
    "$ t = 1 / H_o $ [en algunas unidades extrañas]"
   ]
  },
  {
   "cell_type": "code",
   "execution_count": 22,
   "metadata": {},
   "outputs": [
    {
     "name": "stdout",
     "output_type": "stream",
     "text": [
      "0.014806877077622451\n"
     ]
    }
   ],
   "source": [
    "t = 1.0/slope\n",
    "print(t)"
   ]
  },
  {
   "cell_type": "markdown",
   "metadata": {},
   "source": [
    "Pero las unidades son raras (no años, Mpc s / km). Para solucionar este problema, necesitamos saber cuántos kilómetros hay en un megaparsec. Da la casualidad de que hay 3,09 x 10 $ ^ {19} $ km / Mpc.\n",
    "\n",
    "Entonces, podemos calcular la edad del universo en segundos (** Age_sec **) convirtiendo los megaparsecs a km:\n",
    "\n",
    "Edad en segundos = $t\\frac{s \\cdot Mpc}{km}$ x $3.09 x 10 ^ {19} \\frac{km}{Mpc}$"
   ]
  },
  {
   "cell_type": "code",
   "execution_count": 23,
   "metadata": {},
   "outputs": [
    {
     "name": "stdout",
     "output_type": "stream",
     "text": [
      "4.5753250169853376e+17\n"
     ]
    }
   ],
   "source": [
    "Age_sec=t*3.09e19\n",
    "print(Age_sec)"
   ]
  },
  {
   "cell_type": "markdown",
   "metadata": {},
   "source": [
    "¡Son muchos segundos! Deberíamos convertir segundos en años. Aquí hay otro dato divertido: hay aproximadamente $ \\pi $ x 10 $ ^ 7 $ segundos en un año.\n",
    "\n",
    "Más precisamente, hay 60 (s / min) x 60 (min / h) x 24 (h / día) x 365,25 (días / año)"
   ]
  },
  {
   "cell_type": "code",
   "execution_count": 24,
   "metadata": {},
   "outputs": [
    {
     "name": "stdout",
     "output_type": "stream",
     "text": [
      "3.155760e+07\n"
     ]
    }
   ],
   "source": [
    "s_yr=60*60*24*365.25\n",
    "print('%e'%(s_yr))"
   ]
  },
  {
   "cell_type": "markdown",
   "metadata": {},
   "source": [
    "Ok.  No exactamente $\\pi \\times 10^7$, pero cerca..."
   ]
  },
  {
   "cell_type": "code",
   "execution_count": 25,
   "metadata": {},
   "outputs": [
    {
     "name": "stdout",
     "output_type": "stream",
     "text": [
      "14498330091.595488\n"
     ]
    }
   ],
   "source": [
    "Age_yrs=Age_sec/s_yr\n",
    "print(Age_yrs)"
   ]
  },
  {
   "cell_type": "markdown",
   "metadata": {},
   "source": [
    "y ahora en miles de millones de años"
   ]
  },
  {
   "cell_type": "code",
   "execution_count": 26,
   "metadata": {},
   "outputs": [
    {
     "name": "stdout",
     "output_type": "stream",
     "text": [
      "Edad del universo (en miles de millones de años):\n",
      "14.498330091595488\n"
     ]
    }
   ],
   "source": [
    "print ('Edad del universo (en miles de millones de años):')\n",
    "print(Age_yrs*1e-9)"
   ]
  },
  {
   "cell_type": "markdown",
   "metadata": {},
   "source": [
    "<font color = goldenrod> **_Código para que escriba_** </font>\n",
    "\n",
    "**Escribe una función que tome un valor constante de Hubble y calcule la edad del Universo en miles de millones de años**"
   ]
  },
  {
   "cell_type": "code",
   "execution_count": 28,
   "metadata": {},
   "outputs": [
    {
     "name": "stdout",
     "output_type": "stream",
     "text": [
      "12239523918.168682\n"
     ]
    }
   ],
   "source": [
    "def age_of_universe(Hubble_constant):\n",
    "    t = 1.0/Hubble_constant\n",
    "    Age_sec=t*3.09e19\n",
    "    s_yr=60*60*24*365.25\n",
    "    age=Age_sec/s_yr\n",
    "    \n",
    "    return age\n",
    "\n",
    "#ejemplo\n",
    "print(age_of_universe(80))"
   ]
  },
  {
   "cell_type": "markdown",
   "metadata": {},
   "source": [
    "## Usar otros conjunto de datos para estimar la constante de Hubble\n",
    "\n",
    "La determinación de la constante de Hubble sigue siendo una importante vía de investigación astrofísica. De hecho, el grupo de investigación de Wendy Freedman acaba de publicar un nuevo estudio (https://arxiv.org/abs/1907.05922) que se resume en este breve video:\n",
    "\n",
    "https://www.youtube.com/watch?v=awcnVykOKZY\n",
    "\n",
    "De ese documento, aquí hay una visualización de las determinaciones constantes de Hubble durante los últimos 18 años:\n",
    "\n",
    "<img src = \"Images/Hubble_Constant_Time.png\" width = 600>\n",
    "\n",
    "Veamos otro conjunto de datos del estudio de 2000 para ver cómo diferentes conjuntos de datos pueden conducir a diferentes respuestas.\n",
    "\n",
    "## Datos de las galaxias Tully-Fisher (TF)\n",
    "> The total luminosity of a spiral galaxy (corrected to face-on inclination to account for extinction)\n",
    "is strongly correlated with the galaxy’s maximum (corrected to edge-on inclination) rotation\n",
    "velocity. This relation, calibrated via the Leavitt Law or TRGB, becomes a powerful means of determining\n",
    "extragalactic distances (Tully&Fisher 1977, Aaronson et al. 1986, Pierce&Tully 1988,\n",
    "Giovanelli et al. 1997). The TF relation at present is one of the most widely applied methods for\n",
    "distance measurements *Freedman and Madore (2010)*"
   ]
  },
  {
   "cell_type": "markdown",
   "metadata": {},
   "source": [
    "<font color = goldenrod> **Código para que escriba** </font>\n",
    "\n",
    "**Importe el archivo 'Data/Freedman2000_IBandTullyFisher.csv'. Realice un ajuste lineal para determinar la pendiente entre \"VCMB\" y \"D (Mpc)\". Calcule la edad implícita del universo solo a partir de estos datos de galaxias tipo TF.**"
   ]
  },
  {
   "cell_type": "code",
   "execution_count": 29,
   "metadata": {
    "tags": []
   },
   "outputs": [
    {
     "data": {
      "text/html": [
       "<div>\n",
       "<style scoped>\n",
       "    .dataframe tbody tr th:only-of-type {\n",
       "        vertical-align: middle;\n",
       "    }\n",
       "\n",
       "    .dataframe tbody tr th {\n",
       "        vertical-align: top;\n",
       "    }\n",
       "\n",
       "    .dataframe thead th {\n",
       "        text-align: right;\n",
       "    }\n",
       "</style>\n",
       "<table border=\"1\" class=\"dataframe\">\n",
       "  <thead>\n",
       "    <tr style=\"text-align: right;\">\n",
       "      <th></th>\n",
       "      <th>Cluster/Group</th>\n",
       "      <th>VCMB</th>\n",
       "      <th>VFlow</th>\n",
       "      <th>σ</th>\n",
       "      <th>D(Mpc)</th>\n",
       "      <th>HCMB</th>\n",
       "      <th>σ.1</th>\n",
       "      <th>HFlow</th>\n",
       "      <th>σ.2</th>\n",
       "    </tr>\n",
       "  </thead>\n",
       "  <tbody>\n",
       "    <tr>\n",
       "      <th>0</th>\n",
       "      <td>Abell 1367</td>\n",
       "      <td>6709</td>\n",
       "      <td>6845</td>\n",
       "      <td>88</td>\n",
       "      <td>89.2</td>\n",
       "      <td>75.2</td>\n",
       "      <td>12.5</td>\n",
       "      <td>76.7</td>\n",
       "      <td>12.8</td>\n",
       "    </tr>\n",
       "    <tr>\n",
       "      <th>1</th>\n",
       "      <td>Abell 0262</td>\n",
       "      <td>4730</td>\n",
       "      <td>5091</td>\n",
       "      <td>80</td>\n",
       "      <td>66.7</td>\n",
       "      <td>70.9</td>\n",
       "      <td>11.8</td>\n",
       "      <td>76.2</td>\n",
       "      <td>12.7</td>\n",
       "    </tr>\n",
       "    <tr>\n",
       "      <th>2</th>\n",
       "      <td>Abell 2634</td>\n",
       "      <td>8930</td>\n",
       "      <td>9142</td>\n",
       "      <td>79</td>\n",
       "      <td>114.9</td>\n",
       "      <td>77.7</td>\n",
       "      <td>12.4</td>\n",
       "      <td>79.6</td>\n",
       "      <td>12.7</td>\n",
       "    </tr>\n",
       "    <tr>\n",
       "      <th>3</th>\n",
       "      <td>Abell 3574</td>\n",
       "      <td>4749</td>\n",
       "      <td>4617</td>\n",
       "      <td>11</td>\n",
       "      <td>62.2</td>\n",
       "      <td>76.2</td>\n",
       "      <td>12.2</td>\n",
       "      <td>74.2</td>\n",
       "      <td>11.9</td>\n",
       "    </tr>\n",
       "    <tr>\n",
       "      <th>4</th>\n",
       "      <td>Abell 0400</td>\n",
       "      <td>7016</td>\n",
       "      <td>6983</td>\n",
       "      <td>75</td>\n",
       "      <td>88.4</td>\n",
       "      <td>79.3</td>\n",
       "      <td>12.6</td>\n",
       "      <td>79.0</td>\n",
       "      <td>12.6</td>\n",
       "    </tr>\n",
       "  </tbody>\n",
       "</table>\n",
       "</div>"
      ],
      "text/plain": [
       "  Cluster/Group  VCMB  VFlow   σ  D(Mpc)  HCMB   σ.1  HFlow   σ.2\n",
       "0    Abell 1367  6709   6845  88    89.2  75.2  12.5   76.7  12.8\n",
       "1    Abell 0262  4730   5091  80    66.7  70.9  11.8   76.2  12.7\n",
       "2    Abell 2634  8930   9142  79   114.9  77.7  12.4   79.6  12.7\n",
       "3    Abell 3574  4749   4617  11    62.2  76.2  12.2   74.2  11.9\n",
       "4    Abell 0400  7016   6983  75    88.4  79.3  12.6   79.0  12.6"
      ]
     },
     "execution_count": 29,
     "metadata": {},
     "output_type": "execute_result"
    }
   ],
   "source": [
    "galaxiesTF_data = pd.read_csv('Data/Freedman2000_IBandTullyFisher.csv')\n",
    "galaxiesTF_data.head()"
   ]
  },
  {
   "cell_type": "markdown",
   "metadata": {},
   "source": [
    "### Cuando los datos son curvos.\n",
    "\n",
    "Como ejemplo de una relación curva, hay nuevos datos disponibles para el problema clásico de Hubble. Encontré uno publicado por Betoule et al. en 2014 [http://dx.doi.org/10.1051/0004-6361/201423413](http://dx.doi.org/10.1051/0004-6361/201423413). En este artículo, los datos se grafican utilizando los parámetros $ z $ y $\\mu$ que están relacionados con la velocidad y la distancia de desplazamiento al rojo. $ z $ es el cambio fraccional en la longitud de onda espectral y $ \\mu $ está relacionado con la distancia.\n",
    "\n",
    "Aquí hay un gráfico del artículo de Betoule et al.:\n",
    "\n",
    "<img src = \"Images/betoule14.png\" width = 600> _[Figura de Betoule et al., 2014.] Estos datos son supernova de tipo Ia de diferentes grupos de colaboradores de este artículo_\n",
    "\n",
    "Observe que trazaron los datos en una escala logarítmica. (Esto esconde algunas cosas sorprendentes).\n",
    "\n",
    "Resulta que hemos estado mirando datos que son de bajo z (es decir, un desplazamiento al rojo relativamente cercano y bajo). Necesitamos convertir $ z $ y $ \\mu $ a distancia y velocidad para compararlos con los resultados que hemos considerado hasta ahora.\n",
    "\n",
    "Según [http://hyperphysics.phy-astr.gsu.edu/hbase/Astro/hubble.html](http://hyperphysics.phy-astr.gsu.edu/hbase/Astro/hubble.html)\n",
    "\n",
    "la velocidad $ v $ (como fracción de la velocidad de la luz, $ c $) viene dada por\n",
    "\n",
    "$ {v \\over c} = \\bigl ({{(z + 1) ^ 2-1} \\over {(z + 1) ^ 2 + 1}} \\bigr) $\n",
    "\n",
    "donde $ c = 3 \\times 10 ^ 8 $ m s $ ^ {- 1} $.\n",
    "\n",
    "Y según Betoule et al. (2014) paper, $ \\mu $ se relaciona con la distancia en parsecs $ d $ así:\n",
    "\n",
    "$ \\mu = 5 \\log (d / 10) $.\n",
    "\n",
    "Leamos los datos (disponibles en este sitio web: http://cdsarc.u-strasbg.fr/viz-bin/qcat?J/A+A/568/A22#sRM2.2), que son promedios de los datos que se muestra en la figura anterior y eche un vistazo."
   ]
  },
  {
   "cell_type": "code",
   "execution_count": 30,
   "metadata": {},
   "outputs": [
    {
     "data": {
      "text/html": [
       "<div>\n",
       "<style scoped>\n",
       "    .dataframe tbody tr th:only-of-type {\n",
       "        vertical-align: middle;\n",
       "    }\n",
       "\n",
       "    .dataframe tbody tr th {\n",
       "        vertical-align: top;\n",
       "    }\n",
       "\n",
       "    .dataframe thead th {\n",
       "        text-align: right;\n",
       "    }\n",
       "</style>\n",
       "<table border=\"1\" class=\"dataframe\">\n",
       "  <thead>\n",
       "    <tr style=\"text-align: right;\">\n",
       "      <th></th>\n",
       "      <th>z</th>\n",
       "      <th>mu</th>\n",
       "    </tr>\n",
       "  </thead>\n",
       "  <tbody>\n",
       "    <tr>\n",
       "      <th>0</th>\n",
       "      <td>0.010</td>\n",
       "      <td>32.953887</td>\n",
       "    </tr>\n",
       "    <tr>\n",
       "      <th>1</th>\n",
       "      <td>0.012</td>\n",
       "      <td>33.879003</td>\n",
       "    </tr>\n",
       "    <tr>\n",
       "      <th>2</th>\n",
       "      <td>0.014</td>\n",
       "      <td>33.842141</td>\n",
       "    </tr>\n",
       "    <tr>\n",
       "      <th>3</th>\n",
       "      <td>0.016</td>\n",
       "      <td>34.118567</td>\n",
       "    </tr>\n",
       "    <tr>\n",
       "      <th>4</th>\n",
       "      <td>0.019</td>\n",
       "      <td>34.593446</td>\n",
       "    </tr>\n",
       "  </tbody>\n",
       "</table>\n",
       "</div>"
      ],
      "text/plain": [
       "       z         mu\n",
       "0  0.010  32.953887\n",
       "1  0.012  33.879003\n",
       "2  0.014  33.842141\n",
       "3  0.016  34.118567\n",
       "4  0.019  34.593446"
      ]
     },
     "execution_count": 30,
     "metadata": {},
     "output_type": "execute_result"
    }
   ],
   "source": [
    "Betoule_data = pd.read_csv('Data/mu_z.csv',header=1)\n",
    "Betoule_data.head()"
   ]
  },
  {
   "cell_type": "markdown",
   "metadata": {},
   "source": [
    "Ahora podemos trazarlo de la misma manera que lo hicieron los cosmólogos en el artículo, usando $\\mu $ y $ \\log z$:"
   ]
  },
  {
   "cell_type": "code",
   "execution_count": 31,
   "metadata": {},
   "outputs": [
    {
     "data": {
      "image/png": "[encoded data removed]",
      "text/plain": [
       "<Figure size 432x288 with 1 Axes>"
      ]
     },
     "metadata": {
      "needs_background": "light"
     },
     "output_type": "display_data"
    }
   ],
   "source": [
    "plt.scatter(Betoule_data['z'],Betoule_data['mu'],color='blue')\n",
    "plt.xlabel('z')\n",
    "plt.ylabel('$\\mu$')\n",
    "plt.semilogx()\n",
    "plt.show()"
   ]
  },
  {
   "cell_type": "markdown",
   "metadata": {},
   "source": [
    "Para comparar estos nuevos datos con los datos considerados anteriormente, debemos hacer lo siguiente:\n",
    "\n",
    "- Transforma $z$ en velocidad\n",
    "- Transforma $\\mu$ a distancia usando las ecuaciones proporcionadas.\n",
    "- Truncar el nuevo conjunto de datos que va a distancias mucho más lejanas que el conjunto de datos 'antiguo'"
   ]
  },
  {
   "cell_type": "code",
   "execution_count": 35,
   "metadata": {},
   "outputs": [],
   "source": [
    "c = 2.9979e8 / 1000 # speed of light in km/s\n",
    "Betoule_data['velocity'] = c * (((Betoule_data['z']+1.)**2-1.)/((Betoule_data['z']+1.)**2+1.)) # the formula for v from z (and c)\n",
    "Betoule_data['distance']=10000*(10.**((Betoule_data['mu'])/5.))*1e-9 # convert mu to Gpc"
   ]
  },
  {
   "cell_type": "code",
   "execution_count": 36,
   "metadata": {},
   "outputs": [
    {
     "data": {
      "image/png": "[encoded data removed]",
      "text/plain": [
       "<Figure size 576x432 with 1 Axes>"
      ]
     },
     "metadata": {
      "needs_background": "light"
     },
     "output_type": "display_data"
    }
   ],
   "source": [
    "plt.figure(figsize=(8,6))\n",
    "plt.scatter(Betoule_data['distance'],Betoule_data['velocity'],\n",
    "         color='blue',label='1A Supernovae data (Betoule et al. 2014)')\n",
    "plt.scatter(Supernova_data['D(Mpc)'],Supernova_data['VCMB'],\n",
    "            color='red',label='1A Supernovae data (Freedman et al. 2000)')\n",
    "plt.ylabel('Velocity (km s$^{-1}$)')\n",
    "plt.xlabel('Distance (Mpc)')\n",
    "plt.legend()\n",
    "plt.show()"
   ]
  },
  {
   "cell_type": "markdown",
   "metadata": {},
   "source": [
    "Estos conjuntos de datos son similares entre sí para los objetos \"cercanos\", pero podemos ver que un modelo lineal no funciona bien para objetos que se encuentran a mayores distancias.\n",
    "\n",
    "Para visualizar esta realidad, grafiquemos el ajuste a los datos de Freedman et al. 2000 encima de esta gráfica (aplicándolos a las distancias de Betoule usando `np.polyval ()`."
   ]
  },
  {
   "cell_type": "code",
   "execution_count": 38,
   "metadata": {},
   "outputs": [
    {
     "data": {
      "image/png": "[encoded data removed]",
      "text/plain": [
       "<Figure size 576x432 with 1 Axes>"
      ]
     },
     "metadata": {
      "needs_background": "light"
     },
     "output_type": "display_data"
    }
   ],
   "source": [
    "model_y_values = np.polyval(m_b,Betoule_data['distance'])\n",
    "\n",
    "plt.figure(figsize=(8,6))\n",
    "plt.scatter(Betoule_data['distance'],Betoule_data['velocity'],\n",
    "         color='blue',label='1A Supernovae data (Betoule et al. 2014)')\n",
    "plt.scatter(Supernova_data['D(Mpc)'],Supernova_data['VCMB'],\n",
    "            color='red',label='1A Supernovae data (Freedman et al. 2000)')\n",
    "plt.plot(Betoule_data['distance'],model_y_values,\n",
    "         color='black',label='1A Supernovae fit to Freedman data')\n",
    "plt.ylabel('Velocity (km s$^{-1}$)')\n",
    "plt.xlabel('Distance (Mpc)')\n",
    "plt.legend()\n",
    "plt.show()"
   ]
  },
  {
   "cell_type": "markdown",
   "metadata": {},
   "source": [
    "Claramente, este ajuste es bastante pobre.\n",
    "\n",
    "Hagamos un ajuste polinomial de primer orden a todos los datos de Betoule y luego grafiquemos el residuo:"
   ]
  },
  {
   "cell_type": "code",
   "execution_count": 39,
   "metadata": {},
   "outputs": [
    {
     "data": {
      "image/png": "[encoded data removed]",
      "text/plain": [
       "<Figure size 432x288 with 2 Axes>"
      ]
     },
     "metadata": {
      "needs_background": "light"
     },
     "output_type": "display_data"
    }
   ],
   "source": [
    "fit = np.polyfit(Betoule_data['distance'],Betoule_data['velocity'],1) \n",
    "y_values = np.polyval(fit,Betoule_data['distance'])\n",
    "\n",
    "plt.subplot(2,1,1)\n",
    "plt.scatter(Betoule_data['distance'],Betoule_data['velocity'])\n",
    "plt.plot(Betoule_data['distance'],y_values,color='orange',)\n",
    "plt.title('data and a polynomial degree 1 fit')\n",
    "plt.ylabel('Velocity (km s$^{-1}$)')\n",
    "plt.xlabel('Distance (Mpc)')\n",
    "\n",
    "plt.subplot(2,1,2)\n",
    "plt.scatter(Betoule_data['distance'],Betoule_data['velocity']-y_values)\n",
    "plt.title('residuals of a polynomial degree 1 fit')\n",
    "plt.ylabel('Residual velocity (km s$^{-1}$)')\n",
    "plt.xlabel('Distance (Mpc)')\n",
    "\n",
    "plt.tight_layout()\n",
    "plt.show()"
   ]
  },
  {
   "cell_type": "markdown",
   "metadata": {},
   "source": [
    "Hay mucha estructura en el residuo de este ajuste de grado 1. Probemos un ajuste polinomial de grado 2 (conocido como cuadrático):\n",
    "\n",
    "$f(x) = ax ^ 2 + bx + c$"
   ]
  },
  {
   "cell_type": "code",
   "execution_count": 40,
   "metadata": {},
   "outputs": [
    {
     "data": {
      "image/png": "[encoded data removed]",
      "text/plain": [
       "<Figure size 432x288 with 2 Axes>"
      ]
     },
     "metadata": {
      "needs_background": "light"
     },
     "output_type": "display_data"
    }
   ],
   "source": [
    "fit = np.polyfit(Betoule_data['distance'],Betoule_data['velocity'],2) \n",
    "y_values = np.polyval(fit,Betoule_data['distance'])\n",
    "\n",
    "plt.subplot(2,1,1)\n",
    "plt.scatter(Betoule_data['distance'],Betoule_data['velocity'])\n",
    "plt.plot(Betoule_data['distance'],y_values,color='orange',)\n",
    "plt.title('data and a polynomial degree 2 fit')\n",
    "plt.ylabel('Velocity (km s$^{-1}$)')\n",
    "plt.xlabel('Distance (Mpc)')\n",
    "\n",
    "plt.subplot(2,1,2)\n",
    "plt.scatter(Betoule_data['distance'],Betoule_data['velocity']-y_values)\n",
    "plt.title('residuals of a polynomial degree 2 fit')\n",
    "plt.ylabel('Residual velocity (km s$^{-1}$)')\n",
    "plt.xlabel('Distance (Mpc)')\n",
    "\n",
    "plt.tight_layout()\n",
    "plt.show()"
   ]
  },
  {
   "cell_type": "markdown",
   "metadata": {},
   "source": [
    "Hay mucha estructura en los residuos de este ajuste de grado 2 (y los residuos siguen siendo altos). Probemos un ajuste polinomial de grado 3 (conocido como cúbico):\n",
    "\n",
    "$ f (x) = ax ^ 3 + bx ^ 2 + cx + d $"
   ]
  },
  {
   "cell_type": "code",
   "execution_count": 41,
   "metadata": {},
   "outputs": [
    {
     "data": {
      "image/png": "[encoded data removed]",
      "text/plain": [
       "<Figure size 432x288 with 2 Axes>"
      ]
     },
     "metadata": {
      "needs_background": "light"
     },
     "output_type": "display_data"
    }
   ],
   "source": [
    "fit = np.polyfit(Betoule_data['distance'],Betoule_data['velocity'],3) \n",
    "y_values = np.polyval(fit,Betoule_data['distance'])\n",
    "\n",
    "plt.subplot(2,1,1)\n",
    "plt.scatter(Betoule_data['distance'],Betoule_data['velocity'])\n",
    "plt.plot(Betoule_data['distance'],y_values,color='orange',)\n",
    "plt.title('data and a polynomial degree 3 fit')\n",
    "plt.ylabel('Velocity (km s$^{-1}$)')\n",
    "plt.xlabel('Distance (Mpc)')\n",
    "\n",
    "plt.subplot(2,1,2)\n",
    "plt.scatter(Betoule_data['distance'],Betoule_data['velocity']-y_values)\n",
    "plt.title('residuals of a polynomial degree 3 fit')\n",
    "plt.ylabel('Residual velocity (km s$^{-1}$)')\n",
    "plt.xlabel('Distance (Mpc)')\n",
    "\n",
    "plt.tight_layout()\n",
    "plt.show()"
   ]
  },
  {
   "cell_type": "markdown",
   "metadata": {},
   "source": [
    "¿Puede funcionar mejor un ajuste polinomial de grado 4?\n",
    "\n",
    "$ f (x) = ax ^ 4 + bx ^ 3 + cx ^ 2 + dx + e $"
   ]
  },
  {
   "cell_type": "code",
   "execution_count": 42,
   "metadata": {},
   "outputs": [
    {
     "data": {
      "image/png": "[encoded data removed]",
      "text/plain": [
       "<Figure size 432x288 with 2 Axes>"
      ]
     },
     "metadata": {
      "needs_background": "light"
     },
     "output_type": "display_data"
    }
   ],
   "source": [
    "fit = np.polyfit(Betoule_data['distance'],Betoule_data['velocity'],4) \n",
    "y_values = np.polyval(fit,Betoule_data['distance'])\n",
    "\n",
    "plt.subplot(2,1,1)\n",
    "plt.scatter(Betoule_data['distance'],Betoule_data['velocity'])\n",
    "plt.plot(Betoule_data['distance'],y_values,color='orange',)\n",
    "plt.title('data and a polynomial degree 4 fit')\n",
    "plt.ylabel('Velocity (km s$^{-1}$)')\n",
    "plt.xlabel('Distance (Mpc)')\n",
    "\n",
    "plt.subplot(2,1,2)\n",
    "plt.scatter(Betoule_data['distance'],Betoule_data['velocity']-y_values)\n",
    "plt.title('residuals of a polynomial degree 4 fit')\n",
    "plt.ylabel('Residual velocity (km s$^{-1}$)')\n",
    "plt.xlabel('Distance (Mpc)')\n",
    "\n",
    "plt.tight_layout()\n",
    "plt.show()"
   ]
  },
  {
   "cell_type": "markdown",
   "metadata": {},
   "source": [
    "Eso se ve más o menos igual que el cúbico, por lo que también podría seguir con ese como modelo de trabajo.\n",
    "\n",
    "El hecho de que la relación velocidad-distancia no sea lineal se toma como evidencia de que la expansión del universo se está acelerando. Esta aceleración se atribuye a la energía oscura:\n",
    "    \n",
    "> In a matter-dominated universe, the expansion velocity of the Universe slows down over\n",
    "time owing to the attractive force of gravity. However, a decade ago two independent groups (Perlmutter et al. 1999, Riess et al. 1998) found that supernovae at z ∼ 0.5 appear to be about 10%\n",
    "fainter than those observed locally, consistent instead with models in which the expansion velocity\n",
    "is increasing; that is, a universe that is accelerating in its expansion. Combined with independent\n",
    "estimates of the matter density, these results are consistent with a universe in which one-third of\n",
    "the overall density is in the form of matter (ordinary plus dark), and two-thirds is in a form having\n",
    "a large, negative pressure, termed dark energy."
   ]
  },
  {
   "cell_type": "code",
   "execution_count": null,
   "metadata": {},
   "outputs": [],
   "source": []
  }
 ],
 "metadata": {
  "kernelspec": {
   "display_name": "Python 3",
   "language": "python",
   "name": "python3"
  },
  "language_info": {
   "codemirror_mode": {
    "name": "ipython",
    "version": 3
   },
   "file_extension": ".py",
   "mimetype": "text/x-python",
   "name": "python",
   "nbconvert_exporter": "python",
   "pygments_lexer": "ipython3",
   "version": "3.8.3"
  }
 },
 "nbformat": 4,
 "nbformat_minor": 5
}
